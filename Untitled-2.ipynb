{
 "cells": [
  {
   "cell_type": "code",
   "execution_count": 5,
   "metadata": {},
   "outputs": [],
   "source": [
    "# 以下函数用于简化代码\n",
    "# 以下函数用于转化测量结果\n",
    "\n",
    "import tensorcircuit as tc\n",
    "import tensorflow as tf\n",
    "import numpy as np\n",
    "import matplotlib\n",
    "from matplotlib import pyplot as plt\n",
    "from tensorcircuit.cloud import apis\n",
    "import pandas as pd\n",
    "apis.set_token(\"jFZRQMCkYSuaS-w-zSseeVkuwUYyQOcvyUsAnX.XZO7Pc2Pdsp9Hihcp7ZNIxM8RHkcZwgbyr93IbOcuqBeM8-c1Y7ndwVR5kG6XfwX-Z98P0URAGBkToUs5fkpV3zkViQUmlOohxfH3oKwI.eq4MO7V\")\n",
    "K = tc.set_backend(\"tensorflow\")\n",
    "def to_binstr(x: int, len: int) -> str:\n",
    "    return \"{1:0>{0}b}\".format(len, x)\n",
    "\n",
    "def dict_to_tensor(n: int, a: dict):\n",
    "    res = np.zeros(shape = (2 ** n), dtype = \"complex64\")\n",
    "    for i in a:\n",
    "        res[int(i, 2)] += a[i]\n",
    "    return K.convert_to_tensor(res)\n",
    "\n",
    "def tensor_to_dict(n: int, a: tf.Tensor):\n",
    "    res = {}\n",
    "    for i in range(2 ** n):\n",
    "        res[to_binstr(i, n)] = K.real(a[i])[0].numpy()\n",
    "    return res\n",
    "\n",
    "def trim_result(res: dict):\n",
    "    return [([int(x) for x in s], res[s]) for s in res]"
   ]
  },
  {
   "cell_type": "code",
   "execution_count": 6,
   "metadata": {},
   "outputs": [],
   "source": [
    "# 以下函数用于简化测量\n",
    "# 传入一个 Circuit 的 list 以及测量次数，以 list 的形式返回每个 Circuit 的结果\n",
    "\n",
    "def sample_local(cs: list[tc.Circuit], batch: int):\n",
    "    res = []\n",
    "    for c in cs:\n",
    "        res.append(c.sample(batch = batch, allow_state = \"True\", format = \"count_dict_bin\"))\n",
    "    return res\n",
    "\n",
    "# 用 device_name 生成对应函数\n",
    "def gen_sample_cloud(device_name: str):\n",
    "    def sample_cloud(cs: list[tc.Circuit], batch: int):\n",
    "        t = apis.submit_task(provider=\"tencent\",\n",
    "            device=device_name,\n",
    "            circuit=cs,\n",
    "            shots=batch,\n",
    "            enable_qos_qubit_mapping = False)\n",
    "        res = []\n",
    "        for x in t:\n",
    "            res.append(x.results())\n",
    "        return res\n",
    "    return sample_cloud"
   ]
  },
  {
   "cell_type": "code",
   "execution_count": 7,
   "metadata": {},
   "outputs": [
    {
     "ename": "SyntaxError",
     "evalue": "'(' was never closed (183498588.py, line 30)",
     "output_type": "error",
     "traceback": [
      "\u001b[0;36m  Cell \u001b[0;32mIn[7], line 30\u001b[0;36m\u001b[0m\n\u001b[0;31m    f = np.zeros(shape = (2 ** d, 2 ** d), dtype = .7\u001b[0m\n\u001b[0m                ^\u001b[0m\n\u001b[0;31mSyntaxError\u001b[0m\u001b[0;31m:\u001b[0m '(' was never closed\n"
     ]
    }
   ],
   "source": [
    "def calc_expectation(result: dict, unitary: list[tf.Tensor]):\n",
    "    \n",
    "    p = trim_result(tc.results.counts.normalized_count(result))\n",
    "    sum = 0\n",
    "    for (id, x) in p:\n",
    "        cur = 1\n",
    "        for i in range(0, len(unitary)):\n",
    "            cur *= unitary[i][id[i], id[i]]\n",
    "        sum += cur * x\n",
    "    return sum\n",
    "\n",
    "def aply_matrix(n: int, result: dict, mat: tf.Tensor):\n",
    "    result = dict_to_tensor(n, result)\n",
    "    result = mat @ K.reshape(result, shape = (2 ** n, 1))\n",
    "    return tensor_to_dict(n, result)\n",
    "\n",
    "def get_confusion_matrix_single(n: int, sample_function, batch: int, group: list[int]) -> tf.Tensor:\n",
    "    \n",
    "    d = len(group)\n",
    "    cs = []\n",
    "    for mask in range(2 ** d):\n",
    "        c = tc.Circuit(n)\n",
    "        maskstr = to_binstr(mask, d)\n",
    "        for i in range(d):\n",
    "            if(maskstr[i] == '1'):\n",
    "                c.X(group[i])\n",
    "        cs.append(c)\n",
    "    \n",
    "    res = sample_function(cs, batch)\n",
    "    f = np.zeros(shape = (2 ** d, 2 ** d), dtype = .7\n",
    "            cur = 1\n",
    "            for id in range(0, len(group_list)):\n",
    "                group = group_list[id]\n",
    "                x = \"\".join(i_str[k] for k in group)\n",
    "                y = \"\".join(j_str[k] for k in group)\n",
    "                cur *= f[id][int(x,2)][int(y,2)]\n",
    "            res[i][j] = cur\n",
    "    return K.convert_to_tensor(res)"
   ]
  },
  {
   "cell_type": "code",
   "execution_count": null,
   "metadata": {},
   "outputs": [
    {
     "data": {
      "text/plain": [
       "'\\nimport tensorflow as tf\\nimport numpy as np\\nimport tensorcircuit as tc\\nimport matplotlib.pyplot as plt\\nK = tc.set_backend(\"tensorflow\")\\nZ = K.cast(K.convert_to_tensor([[1+0j,0+0j],[0+0j,-1+0j]]),dtype=\"complex128\")\\nI = K.cast(K.convert_to_tensor([[1+0j,0+0j],[0+0j,1+0j]]),dtype=\"complex128\")\\nlist_of_matrixs = [Z,Z]\\nlist_of_M = [I,I]\\nn = 2\\nc = tc.Circuit(n)\\nc.h(0)\\nc.cx(0, 1)\\nc.rx(0, theta = 1)\\nexpectation_real = K.cast(c.expectation_ps(z=[0,1]),dtype=\"complex128\")\\nprint(expectation_real)\\ndef list_of_probability(maxstep,list_of_matrixs,list_of_M):\\n    p = sample_cloud(c,maxstep)\\n    list_ = []\\n    for j in range(n):\\n        num = 0\\n        for i in p:\\n            if i[j] == \\'0\\':\\n                num += p[i]\\n        list_.append(num/maxstep)\\n    return list_\\ndef get_expectation_(maxstep,list_of_matrixs,list_of_M):\\n    list = list_of_probability(maxstep,list_of_matrixs,list_of_M)\\n    E = 1\\n    for j in range(n):\\n        T = list_of_matrixs[j]\\n        M = list_of_M[j]\\n        T0 = T[0,0]\\n        T1 = T[1,1]\\n        prob = list[j]\\n        E_partial = prob*(M[0,0]*T0+M[1,0]*T1)+(1-prob)*(M[0,1]*T0+M[1,1]*T1)\\n        E*=E_partial\\n    return E\\nget_expectation_(100,list_of_matrixs,list_of_M)\\n'"
      ]
     },
     "execution_count": 4,
     "metadata": {},
     "output_type": "execute_result"
    }
   ],
   "source": [
    "\"\"\"\n",
    "import tensorflow as tf\n",
    "import numpy as np\n",
    "import tensorcircuit as tc\n",
    "import matplotlib.pyplot as plt\n",
    "K = tc.set_backend(\"tensorflow\")\n",
    "Z = K.cast(K.convert_to_tensor([[1+0j,0+0j],[0+0j,-1+0j]]),dtype=\"complex128\")\n",
    "I = K.cast(K.convert_to_tensor([[1+0j,0+0j],[0+0j,1+0j]]),dtype=\"complex128\")\n",
    "list_of_matrixs = [Z,Z]\n",
    "list_of_M = [I,I]\n",
    "n = 2\n",
    "c = tc.Circuit(n)\n",
    "c.h(0)\n",
    "c.cx(0, 1)\n",
    "c.rx(0, theta = 1)\n",
    "expectation_real = K.cast(c.expectation_ps(z=[0,1]),dtype=\"complex128\")\n",
    "print(expectation_real)\n",
    "def list_of_probability(maxstep,list_of_matrixs,list_of_M):\n",
    "    p = sample_cloud(c,maxstep)\n",
    "    list_ = []\n",
    "    for j in range(n):\n",
    "        num = 0\n",
    "        for i in p:\n",
    "            if i[j] == '0':\n",
    "                num += p[i]\n",
    "        list_.append(num/maxstep)\n",
    "    return list_\n",
    "def get_expectation_(maxstep,list_of_matrixs,list_of_M):\n",
    "    list = list_of_probability(maxstep,list_of_matrixs,list_of_M)\n",
    "    E = 1\n",
    "    for j in range(n):\n",
    "        T = list_of_matrixs[j]\n",
    "        M = list_of_M[j]\n",
    "        T0 = T[0,0]\n",
    "        T1 = T[1,1]\n",
    "        prob = list[j]\n",
    "        E_partial = prob*(M[0,0]*T0+M[1,0]*T1)+(1-prob)*(M[0,1]*T0+M[1,1]*T1)\n",
    "        E*=E_partial\n",
    "    return E\n",
    "get_expectation_(100,list_of_matrixs,list_of_M)\n",
    "\"\"\""
   ]
  },
  {
   "cell_type": "code",
   "execution_count": null,
   "metadata": {},
   "outputs": [
    {
     "data": {
      "text/plain": [
       "'\\nimport tensorflow as tf\\nimport numpy as np\\nimport tensorcircuit as tc\\nimport matplotlib.pyplot as plt\\nK = tc.set_backend(\"tensorflow\")\\nZ = K.cast(K.convert_to_tensor([[1+0j,0+0j],[0+0j,-1+0j]]),dtype=\"complex128\")\\nI = K.cast(K.convert_to_tensor([[1+0j,0+0j],[0+0j,1+0j]]),dtype=\"complex128\")\\nlist_of_matrixs = [Z,Z]\\nlist_of_M = [I,I]\\nn = 2\\nc = tc.Circuit(n)\\nc.h(0)\\nc.cx(0, 1)\\nc.rx(0, theta = 1)\\nexpectation_real = K.cast(c.expectation_ps(z=[0,1]),dtype=\"complex128\")\\nprint(expectation_real)\\n\\ndef get_expectation_(maxstep,list_of_matrixs,list_of_M):\\n    list = list_of_probability(maxstep,list_of_matrixs,list_of_M)\\n    E = 1\\n    for j in range(n):\\n        T = list_of_matrixs[j]\\n        M = list_of_M[j]\\n        T0 = T[0,0]\\n        T1 = T[1,1]\\n        prob = list[j]\\n        E_partial = prob*(M[0,0]*T0+M[1,0]*T1)+(1-prob)*(M[0,1]*T0+M[1,1]*T1)\\n        E*=E_partial\\n    return E\\nget_expectation_(100,list_of_matrixs,list_of_M)\\n'"
      ]
     },
     "execution_count": 5,
     "metadata": {},
     "output_type": "execute_result"
    }
   ],
   "source": [
    "\"\"\"\n",
    "import tensorflow as tf.7atrixs,list_of_M)\n",
    "    E = 1\n",
    "    for j in range(n):\n",
    "        T = list_of_matrixs[j]\n",
    "        M = list_of_M[j]\n",
    "        T0 = T[0,0]\n",
    "        T1 = T[1,1]\n",
    "        prob = list[j]\n",
    "        E_partial = prob*(M[0,0]*T0+M[1,0]*T1)+(1-prob)*(M[0,1]*T0+M[1,1]*T1)\n",
    "        E*=E_partial\n",
    "    return E\n",
    "get_expectation_(100,list_of_matrixs,list_of_M)\n",
    "\"\"\""
   ]
  },
  {
   "cell_type": "code",
   "execution_count": 12,
   "metadata": {},
   "outputs": [],
   "source": [
    "def get_seperate_matrix(n: int, sample_function, batch: int) -> tf.Tensor:\n",
    "    cs = []\n",
    "    c = tc.Circuit(n)\n",
    "    cs.append(c)\n",
    "    c = tc.Circuit(n)\n",
    "    for i in range(n):\n",
    "        c.x(i)\n",
    "    cs.append(c)\n",
    "    # append all 0 and all 1\n",
    "    \n",
    "    res = sample_function(cs, batch)\n",
    "    # get results\n",
    "    \n",
    "    pro = np.zeros(shape = (n,2), dtype = \"complex64\")\n",
    "    for s in res[0]:\n",
    "        for o in range(n):\n",
    "            if s[o] == '1':\n",
    "                pro[o][0] += res[0][s]\n",
    "    for s in res[1]:\n",
    "        for o in range(n):\n",
    "            if s[o] == '0':\n",
    "                pro[o][1] += res[1][s]\n",
    "    ans = []\n",
    "    for i in range(n):\n",
    "        now = np.zeros(shape = (2,2), dtype = \"complex64\")\n",
    "        now[0][0] = (batch - pro[i][0])/batch\n",
    "        now[0][1] = pro[i][0]/batch\n",
    "        now[1][0] = pro[i][1]/batch\n",
    "        now[1][1] = (batch - pro[i][1])/batch\n",
    "        now = K.convert_to_tensor(now)\n",
    "        now = K.inv(now)\n",
    "        ans.append(now)\n",
    "    return ans"
   ]
  },
  {
   "cell_type": "code",
   "execution_count": null,
   "metadata": {},
   "outputs": [
    {
     "name": "stdout",
     "output_type": "stream",
     "text": [
      "tf.Tensor([0.8473318+0.j], shape=(1,), dtype=complex64)\n"
     ]
    }
   ],
   "source": [
    "n = 16\n",
    "shots = 8096\n",
    "device_name = \"simulator:tcn1\"\n",
    "\n",
    "I = tc.gates._i_matrix\n",
    "Z = tc.gates._z_matrix\n",
    "matrix_list = [Z, Z, Z, Z, I]\n",
    "\n",
    "#P_list = get_seperate_matrix(n, gen_sample_cloud(device_name), shots)\n",
    "P_list = [I] * n\n",
    "\n",
    "# M = get_confusion_matrix_single(n, gen_sample_cloud(device_name), shots, [0])\n",
    "\n",
    "c=tc.Circuit(n)\n",
    "c.h(0)\n",
    "for i in range(1,n):\n",
    "    c.cx(i-1, i)\n",
    "    \n",
    "a = gen_sample_cloud(device_name)([c],shots)[0]\n",
    "\n",
    "E = 0\n",
    "for p in a:\n",
    "    T=1\n",
    "    for i in range(5):import pandas as pd\n",
    "        if p[i]==\"0\":\n",
    "            er=P_list[i]@K.cast(tc.array_to_tensor([[1],[0]]),dtype=\"complex64\")\n",
    "            qn=complex(matrix_list[i][0,0])*er[0]+complex(matrix_list[i][1,1])*er[1]\n",
    "        if p[i]==\"1\":\n",
    "            er=P_list[i]@K.cast(tc.array_to_tensor([[0],[1]]),dtype=\"complex64\")\n",
    "            qn=complex(matrix_list[i][0,0])*er[0]+complex(matrix_list[i][1,1])*er[1]\n",
    "        T=qn*T\n",
    "    E=E+T*a[p]/shots\n",
    "\n",
    "print(E)"
   ]
  },
  {
   "cell_type": "code",
   "execution_count": 8,
   "metadata": {},
   "outputs": [
    {
     "ename": "NameError",
     "evalue": "name 'get_seperate_matrix' is not defined",
     "output_type": "error",
     "traceback": [
      "\u001b[0;31m---------------------------------------------------------------------------\u001b[0m",
      "\u001b[0;31mNameError\u001b[0m                                 Traceback (most recent call last)",
      "Cell \u001b[0;32mIn[8], line 15\u001b[0m\n\u001b[1;32m     13\u001b[0m shots \u001b[39m=\u001b[39m \u001b[39m8096\u001b[39m\n\u001b[1;32m     14\u001b[0m device_name \u001b[39m=\u001b[39m \u001b[39m\"\u001b[39m\u001b[39msimulator:tcn1\u001b[39m\u001b[39m\"\u001b[39m\n\u001b[0;32m---> 15\u001b[0m list_of_M1 \u001b[39m=\u001b[39m get_seperate_matrix(n, gen_sample_cloud(device_name), shots)\n\u001b[1;32m     16\u001b[0m list_of_M2 \u001b[39m=\u001b[39m [I] \u001b[39m*\u001b[39m n\n\u001b[1;32m     17\u001b[0m \u001b[39m# for ha in list_of_M:\u001b[39;00m\n\u001b[1;32m     18\u001b[0m \u001b[39m#     print\u001b[39;00m\n\u001b[1;32m     19\u001b[0m \u001b[39m# c.cx(0, 1)\u001b[39;00m\n\u001b[1;32m     20\u001b[0m \u001b[39m# c.rx(0, theta = 1)\u001b[39;00m\n",
      "\u001b[0;31mNameError\u001b[0m: name 'get_seperate_matrix' is not defined"
     ]
    }
   ],
   "source": [
    "import tensorflow as tf\n",
    "import numpy as np\n",
    "import tensorcircuit as tc\n",
    "import matplotlib.pyplot as plt\n",
    "K = tc.set_backend(\"tensorflow\")\n",
    "X = tc.gates._x_matrix\n",
    "Y = tc.gates._y_matrix\n",
    "Z = tc.gates._z_matrix\n",
    "I = tc.gates._i_matrix\n",
    "n = 5\n",
    "list_of_matrixs = [X] * (n-1) + [Z]\n",
    "c = tc.Circuit(n)\n",
    "shots = 8096\n",
    "device_name = \"simulator:tcn1\"\n",
    "list_of_M1 = get_seperate_matrix(n, gen_sample_cloud(device_name), shots)\n",
    "list_of_M2 = [I] * n\n",
    "# for ha in list_of_M:\n",
    "#     print\n",
    "# c.cx(0, 1)\n",
    "# c.rx(0, theta = 1)\n",
    "c.h(0)\n",
    "\n",
    "expectation_real = K.cast(c.expectation_ps(x=list(range(n-1)),z=[n-1]),dtype=\"complex64\")\n",
    "print(expectation_real)\n",
    "for j in range(n):\n",
    "   if list_of_matrixs[j][0,0] == X[0,0]:\n",
    "        c.h(j)\n",
    "\n",
    "def get_expectation(maxstep,list_of_matrixs,list_of_M1,list_of_M2):\n",
    "    p = gen_sample_cloud(device_name)([c],maxstep)\n",
    "    print(p)\n",
    "    for k in range(2):\n",
    "        expectation_sum = 0\n",
    "        list_of_M = [list_of_M1,list_of_M2][k]\n",
    "        for i in p[0]:\n",
    "            expectation = 1\n",
    "            for j in range(n):\n",
    "                T = list_of_matrixs[j]\n",
    "                M = list_of_M[j]\n",
    "                if T[0,0] == X[0,0]:\n",
    "                    T = Z\n",
    "                \n",
    "                if i[j] == \"0\":\n",
    "                    expectation *= (T[0,0]*M[0,0]+ T[1,1]*M[1,0])\n",
    "                elif i[j] == \"1\":\n",
    "                    expectation *= (T[1,1]*M[1,1]+T[0,0]*M[0,1])\n",
    "            expectation_sum += expectation*p[0][i]\n",
    "        print(expectation_sum/maxstep)\n",
    "\"\"\"\n",
    "def loss_expectation(maxstep,list_of_matrixs,list_of_M):\n",
    "    loss_expectation_sum = 0\n",
    "    for _ in range(2000):\n",
    "        loss_expectation_sum += (get_expectation(maxstep,list_of_matrixs)-expectation_real)**2\n",
    "    return (loss_expectation_sum/2000)**0.5\n",
    "\"\"\"\n",
    "#input_maxstep = np.arange(1,50)\n",
    "#output = [loss_expectation(i,list_of_matrixs,list_of_M) for i in input_maxstep]\n",
    "#plt.plot(input_maxstep,output)\n",
    "#plt.plot(np.log(input_maxstep),np.log(output),\".\",color=\"red\")\n",
    "for _ in range(5):\n",
    "    print(get_expectation(shots,list_of_matrixs,list_of_M1,list_of_M2))\n",
    "    "
   ]
  },
  {
   "cell_type": "code",
   "execution_count": 210,
   "metadata": {},
   "outputs": [
    {
     "name": "stdout",
     "output_type": "stream",
     "text": [
      "tf.Tensor(0j, shape=(), dtype=complex64)\n"
     ]
    },
    {
     "ename": "KeyboardInterrupt",
     "evalue": "",
     "output_type": "error",
     "traceback": [
      "\u001b[0;31m---------------------------------------------------------------------------\u001b[0m",
      "\u001b[0;31mKeyboardInterrupt\u001b[0m                         Traceback (most recent call last)",
      "Cell \u001b[0;32mIn[210], line 22\u001b[0m\n\u001b[1;32m     20\u001b[0m expectation_real3 \u001b[39m=\u001b[39m K\u001b[39m.\u001b[39mcast(c\u001b[39m.\u001b[39mexpectation_ps(x\u001b[39m=\u001b[39m[\u001b[39m0\u001b[39m,\u001b[39m1\u001b[39m,\u001b[39m2\u001b[39m]),dtype\u001b[39m=\u001b[39m\u001b[39m\"\u001b[39m\u001b[39mcomplex64\u001b[39m\u001b[39m\"\u001b[39m)\n\u001b[1;32m     21\u001b[0m \u001b[39mprint\u001b[39m(expectation_real3)\n\u001b[0;32m---> 22\u001b[0m list_of_M1 \u001b[39m=\u001b[39m get_seperate_matrix(n, gen_sample_cloud(device_name), shots)\n\u001b[1;32m     24\u001b[0m \u001b[39mfor\u001b[39;00m j \u001b[39min\u001b[39;00m \u001b[39mrange\u001b[39m(n):\n\u001b[1;32m     25\u001b[0m     \u001b[39mif\u001b[39;00m list_of_matrixs[j][\u001b[39m0\u001b[39m,\u001b[39m1\u001b[39m] \u001b[39m==\u001b[39m X[\u001b[39m0\u001b[39m,\u001b[39m1\u001b[39m]:\n",
      "Cell \u001b[0;32mIn[12], line 11\u001b[0m, in \u001b[0;36mget_seperate_matrix\u001b[0;34m(n, sample_function, batch)\u001b[0m\n\u001b[1;32m      8\u001b[0m cs\u001b[39m.\u001b[39mappend(c)\n\u001b[1;32m      9\u001b[0m \u001b[39m# append all 0 and all 1\u001b[39;00m\n\u001b[0;32m---> 11\u001b[0m res \u001b[39m=\u001b[39m sample_function(cs, batch)\n\u001b[1;32m     12\u001b[0m \u001b[39m# get results\u001b[39;00m\n\u001b[1;32m     14\u001b[0m pro \u001b[39m=\u001b[39m np\u001b[39m.\u001b[39mzeros(shape \u001b[39m=\u001b[39m (n,\u001b[39m2\u001b[39m), dtype \u001b[39m=\u001b[39m \u001b[39m\"\u001b[39m\u001b[39mcomplex64\u001b[39m\u001b[39m\"\u001b[39m)\n",
      "Cell \u001b[0;32mIn[6], line 20\u001b[0m, in \u001b[0;36mgen_sample_cloud.<locals>.sample_cloud\u001b[0;34m(cs, batch)\u001b[0m\n\u001b[1;32m     18\u001b[0m res \u001b[39m=\u001b[39m []\n\u001b[1;32m     19\u001b[0m \u001b[39mfor\u001b[39;00m x \u001b[39min\u001b[39;00m t:\n\u001b[0;32m---> 20\u001b[0m     res\u001b[39m.\u001b[39mappend(x\u001b[39m.\u001b[39mresults())\n\u001b[1;32m     21\u001b[0m \u001b[39mreturn\u001b[39;00m res\n",
      "File \u001b[0;32m~/anaconda3/lib/python3.11/site-packages/tensorcircuit/utils.py:155\u001b[0m, in \u001b[0;36marg_alias.<locals>.wrapper\u001b[0;34m(*args, **kws)\u001b[0m\n\u001b[1;32m    153\u001b[0m             kws[k] \u001b[39m=\u001b[39m kws[v]\n\u001b[1;32m    154\u001b[0m             \u001b[39mdel\u001b[39;00m kws[v]\n\u001b[0;32m--> 155\u001b[0m \u001b[39mreturn\u001b[39;00m f(\u001b[39m*\u001b[39margs, \u001b[39m*\u001b[39m\u001b[39m*\u001b[39mkws)\n",
      "File \u001b[0;32m~/anaconda3/lib/python3.11/site-packages/tensorcircuit/cloud/abstraction.py:430\u001b[0m, in \u001b[0;36mTask.results\u001b[0;34m(self, format, blocked, mitigated, calibriation_options, readout_mit, mitigation_options)\u001b[0m\n\u001b[1;32m    428\u001b[0m         time\u001b[39m.\u001b[39msleep(\u001b[39m0.5\u001b[39m \u001b[39m+\u001b[39m tries \u001b[39m/\u001b[39m \u001b[39m10\u001b[39m)\n\u001b[1;32m    429\u001b[0m         tries \u001b[39m+\u001b[39m\u001b[39m=\u001b[39m \u001b[39m1\u001b[39m\n\u001b[0;32m--> 430\u001b[0m         s \u001b[39m=\u001b[39m \u001b[39mself\u001b[39m\u001b[39m.\u001b[39mstate()\n\u001b[1;32m    431\u001b[0m     r \u001b[39m=\u001b[39m \u001b[39mself\u001b[39m\u001b[39m.\u001b[39mresults(\u001b[39mformat\u001b[39m\u001b[39m=\u001b[39m\u001b[39mformat\u001b[39m, blocked\u001b[39m=\u001b[39m\u001b[39mFalse\u001b[39;00m, mitigated\u001b[39m=\u001b[39m\u001b[39mFalse\u001b[39;00m)\n\u001b[1;32m    432\u001b[0m \u001b[39mif\u001b[39;00m mitigated \u001b[39mis\u001b[39;00m \u001b[39mFalse\u001b[39;00m:\n",
      "File \u001b[0;32m~/anaconda3/lib/python3.11/site-packages/tensorcircuit/cloud/abstraction.py:368\u001b[0m, in \u001b[0;36mTask.state\u001b[0;34m(self)\u001b[0m\n\u001b[1;32m    361\u001b[0m \u001b[39mdef\u001b[39;00m \u001b[39mstate\u001b[39m(\u001b[39mself\u001b[39m) \u001b[39m-\u001b[39m\u001b[39m>\u001b[39m \u001b[39mstr\u001b[39m:\n\u001b[1;32m    362\u001b[0m \u001b[39m    \u001b[39m\u001b[39m\"\"\"\u001b[39;00m\n\u001b[1;32m    363\u001b[0m \u001b[39m    Query the current task status\u001b[39;00m\n\u001b[1;32m    364\u001b[0m \n\u001b[1;32m    365\u001b[0m \u001b[39m    :return: _description_\u001b[39;00m\n\u001b[1;32m    366\u001b[0m \u001b[39m    :rtype: str\u001b[39;00m\n\u001b[1;32m    367\u001b[0m \u001b[39m    \"\"\"\u001b[39;00m\n\u001b[0;32m--> 368\u001b[0m     r \u001b[39m=\u001b[39m \u001b[39mself\u001b[39m\u001b[39m.\u001b[39mdetails()\n\u001b[1;32m    369\u001b[0m     \u001b[39mreturn\u001b[39;00m r[\u001b[39m\"\u001b[39m\u001b[39mstate\u001b[39m\u001b[39m\"\u001b[39m]\n",
      "File \u001b[0;32m~/anaconda3/lib/python3.11/site-packages/tensorcircuit/utils.py:155\u001b[0m, in \u001b[0;36marg_alias.<locals>.wrapper\u001b[0;34m(*args, **kws)\u001b[0m\n\u001b[1;32m    153\u001b[0m             kws[k] \u001b[39m=\u001b[39m kws[v]\n\u001b[1;32m    154\u001b[0m             \u001b[39mdel\u001b[39;00m kws[v]\n\u001b[0;32m--> 155\u001b[0m \u001b[39mreturn\u001b[39;00m f(\u001b[39m*\u001b[39margs, \u001b[39m*\u001b[39m\u001b[39m*\u001b[39mkws)\n",
      "File \u001b[0;32m~/anaconda3/lib/python3.11/site-packages/tensorcircuit/cloud/abstraction.py:336\u001b[0m, in \u001b[0;36mTask.details\u001b[0;34m(self, blocked, **kws)\u001b[0m\n\u001b[1;32m    333\u001b[0m \u001b[39mfrom\u001b[39;00m \u001b[39m.\u001b[39;00m\u001b[39mapis\u001b[39;00m \u001b[39mimport\u001b[39;00m get_task_details\n\u001b[1;32m    335\u001b[0m \u001b[39mif\u001b[39;00m blocked \u001b[39mis\u001b[39;00m \u001b[39mFalse\u001b[39;00m:\n\u001b[0;32m--> 336\u001b[0m     dt \u001b[39m=\u001b[39m get_task_details(\u001b[39mself\u001b[39m, \u001b[39m*\u001b[39m\u001b[39m*\u001b[39mkws)\n\u001b[1;32m    337\u001b[0m     dt\u001b[39m.\u001b[39mupdate(\u001b[39mself\u001b[39m\u001b[39m.\u001b[39mmore_details)\n\u001b[1;32m    338\u001b[0m     \u001b[39mreturn\u001b[39;00m dt\n",
      "File \u001b[0;32m~/anaconda3/lib/python3.11/site-packages/tensorcircuit/cloud/apis.py:401\u001b[0m, in \u001b[0;36mget_task_details\u001b[0;34m(taskid, token, prettify)\u001b[0m\n\u001b[1;32m    398\u001b[0m provider \u001b[39m=\u001b[39m device\u001b[39m.\u001b[39mprovider\n\u001b[1;32m    400\u001b[0m \u001b[39mif\u001b[39;00m provider\u001b[39m.\u001b[39mname \u001b[39m==\u001b[39m \u001b[39m\"\u001b[39m\u001b[39mtencent\u001b[39m\u001b[39m\"\u001b[39m:\n\u001b[0;32m--> 401\u001b[0m     \u001b[39mreturn\u001b[39;00m tencent\u001b[39m.\u001b[39mget_task_details(task, device, token, prettify)  \u001b[39m# type: ignore\u001b[39;00m\n\u001b[1;32m    402\u001b[0m \u001b[39melif\u001b[39;00m provider\u001b[39m.\u001b[39mname \u001b[39m==\u001b[39m \u001b[39m\"\u001b[39m\u001b[39mlocal\u001b[39m\u001b[39m\"\u001b[39m:\n\u001b[1;32m    403\u001b[0m     \u001b[39mreturn\u001b[39;00m local\u001b[39m.\u001b[39mget_task_details(task, device, token, prettify)  \u001b[39m# type: ignore\u001b[39;00m\n",
      "File \u001b[0;32m~/anaconda3/lib/python3.11/site-packages/tensorcircuit/cloud/tencent.py:354\u001b[0m, in \u001b[0;36mget_task_details\u001b[0;34m(task, device, token, prettify)\u001b[0m\n\u001b[1;32m    350\u001b[0m \u001b[39mdef\u001b[39;00m \u001b[39mget_task_details\u001b[39m(\n\u001b[1;32m    351\u001b[0m     task: Task, device: Device, token: \u001b[39mstr\u001b[39m, prettify: \u001b[39mbool\u001b[39m\n\u001b[1;32m    352\u001b[0m ) \u001b[39m-\u001b[39m\u001b[39m>\u001b[39m Dict[\u001b[39mstr\u001b[39m, Any]:\n\u001b[1;32m    353\u001b[0m     json \u001b[39m=\u001b[39m {\u001b[39m\"\u001b[39m\u001b[39mid\u001b[39m\u001b[39m\"\u001b[39m: task\u001b[39m.\u001b[39mid_}\n\u001b[0;32m--> 354\u001b[0m     r \u001b[39m=\u001b[39m rpost_json(\n\u001b[1;32m    355\u001b[0m         tencent_base_url \u001b[39m+\u001b[39m \u001b[39m\"\u001b[39m\u001b[39mtask/detail\u001b[39m\u001b[39m\"\u001b[39m, json\u001b[39m=\u001b[39mjson, headers\u001b[39m=\u001b[39mtencent_headers(token)\n\u001b[1;32m    356\u001b[0m     )\n\u001b[1;32m    357\u001b[0m     r \u001b[39m=\u001b[39m error_handling(r)\n\u001b[1;32m    358\u001b[0m     \u001b[39mtry\u001b[39;00m:\n",
      "File \u001b[0;32m~/anaconda3/lib/python3.11/site-packages/tensorcircuit/cloud/utils.py:83\u001b[0m, in \u001b[0;36mreconnect.<locals>.robustify.<locals>.wrapper\u001b[0;34m(*args, **kws)\u001b[0m\n\u001b[1;32m     79\u001b[0m \u001b[39mfor\u001b[39;00m count \u001b[39min\u001b[39;00m \u001b[39mrange\u001b[39m(tries):\n\u001b[1;32m     80\u001b[0m     \u001b[39mtry\u001b[39;00m:\n\u001b[1;32m     81\u001b[0m         logger\u001b[39m.\u001b[39mdebug(\n\u001b[1;32m     82\u001b[0m             \u001b[39m\"\u001b[39m\u001b[39mFetching url: \u001b[39m\u001b[39m%s\u001b[39;00m\u001b[39m . Inside function `\u001b[39m\u001b[39m%s\u001b[39;00m\u001b[39m`\u001b[39m\u001b[39m\"\u001b[39m\n\u001b[0;32m---> 83\u001b[0m             \u001b[39m%\u001b[39m (url, inspect\u001b[39m.\u001b[39mstack()[\u001b[39m1\u001b[39m]\u001b[39m.\u001b[39mfunction)\n\u001b[1;32m     84\u001b[0m         )\n\u001b[1;32m     85\u001b[0m         r \u001b[39m=\u001b[39m f(\u001b[39m*\u001b[39margs, \u001b[39m*\u001b[39m\u001b[39m*\u001b[39mkws)\n\u001b[1;32m     86\u001b[0m         \u001b[39mif\u001b[39;00m (\n\u001b[1;32m     87\u001b[0m             \u001b[39mgetattr\u001b[39m(r, \u001b[39m\"\u001b[39m\u001b[39mstatus_code\u001b[39m\u001b[39m\"\u001b[39m, \u001b[39m200\u001b[39m) \u001b[39m!=\u001b[39m \u001b[39m200\u001b[39m\n\u001b[1;32m     88\u001b[0m         ):  \u001b[39m# in case r is a json dict\u001b[39;00m\n",
      "File \u001b[0;32m~/anaconda3/lib/python3.11/inspect.py:1755\u001b[0m, in \u001b[0;36mstack\u001b[0;34m(context)\u001b[0m\n\u001b[1;32m   1753\u001b[0m \u001b[39mdef\u001b[39;00m \u001b[39mstack\u001b[39m(context\u001b[39m=\u001b[39m\u001b[39m1\u001b[39m):\n\u001b[1;32m   1754\u001b[0m \u001b[39m    \u001b[39m\u001b[39m\"\"\"Return a list of records for the stack above the caller's frame.\"\"\"\u001b[39;00m\n\u001b[0;32m-> 1755\u001b[0m     \u001b[39mreturn\u001b[39;00m getouterframes(sys\u001b[39m.\u001b[39m_getframe(\u001b[39m1\u001b[39m), context)\n",
      "File \u001b[0;32m~/anaconda3/lib/python3.11/inspect.py:1730\u001b[0m, in \u001b[0;36mgetouterframes\u001b[0;34m(frame, context)\u001b[0m\n\u001b[1;32m   1728\u001b[0m framelist \u001b[39m=\u001b[39m []\n\u001b[1;32m   1729\u001b[0m \u001b[39mwhile\u001b[39;00m frame:\n\u001b[0;32m-> 1730\u001b[0m     traceback_info \u001b[39m=\u001b[39m getframeinfo(frame, context)\n\u001b[1;32m   1731\u001b[0m     frameinfo \u001b[39m=\u001b[39m (frame,) \u001b[39m+\u001b[39m traceback_info\n\u001b[1;32m   1732\u001b[0m     framelist\u001b[39m.\u001b[39mappend(FrameInfo(\u001b[39m*\u001b[39mframeinfo, positions\u001b[39m=\u001b[39mtraceback_info\u001b[39m.\u001b[39mpositions))\n",
      "File \u001b[0;32m~/anaconda3/lib/python3.11/inspect.py:1688\u001b[0m, in \u001b[0;36mgetframeinfo\u001b[0;34m(frame, context)\u001b[0m\n\u001b[1;32m   1685\u001b[0m \u001b[39mif\u001b[39;00m \u001b[39mnot\u001b[39;00m isframe(frame):\n\u001b[1;32m   1686\u001b[0m     \u001b[39mraise\u001b[39;00m \u001b[39mTypeError\u001b[39;00m(\u001b[39m'\u001b[39m\u001b[39m{!r}\u001b[39;00m\u001b[39m is not a frame or traceback object\u001b[39m\u001b[39m'\u001b[39m\u001b[39m.\u001b[39mformat(frame))\n\u001b[0;32m-> 1688\u001b[0m filename \u001b[39m=\u001b[39m getsourcefile(frame) \u001b[39mor\u001b[39;00m getfile(frame)\n\u001b[1;32m   1689\u001b[0m \u001b[39mif\u001b[39;00m context \u001b[39m>\u001b[39m \u001b[39m0\u001b[39m:\n\u001b[1;32m   1690\u001b[0m     start \u001b[39m=\u001b[39m lineno \u001b[39m-\u001b[39m \u001b[39m1\u001b[39m \u001b[39m-\u001b[39m context\u001b[39m/\u001b[39m\u001b[39m/\u001b[39m\u001b[39m2\u001b[39m\n",
      "File \u001b[0;32m~/anaconda3/lib/python3.11/inspect.py:952\u001b[0m, in \u001b[0;36mgetsourcefile\u001b[0;34m(object)\u001b[0m\n\u001b[1;32m    950\u001b[0m     \u001b[39mreturn\u001b[39;00m filename\n\u001b[1;32m    951\u001b[0m \u001b[39m# only return a non-existent filename if the module has a PEP 302 loader\u001b[39;00m\n\u001b[0;32m--> 952\u001b[0m module \u001b[39m=\u001b[39m getmodule(\u001b[39mobject\u001b[39m, filename)\n\u001b[1;32m    953\u001b[0m \u001b[39mif\u001b[39;00m \u001b[39mgetattr\u001b[39m(module, \u001b[39m'\u001b[39m\u001b[39m__loader__\u001b[39m\u001b[39m'\u001b[39m, \u001b[39mNone\u001b[39;00m) \u001b[39mis\u001b[39;00m \u001b[39mnot\u001b[39;00m \u001b[39mNone\u001b[39;00m:\n\u001b[1;32m    954\u001b[0m     \u001b[39mreturn\u001b[39;00m filename\n",
      "File \u001b[0;32m~/anaconda3/lib/python3.11/inspect.py:992\u001b[0m, in \u001b[0;36mgetmodule\u001b[0;34m(object, _filename)\u001b[0m\n\u001b[1;32m    989\u001b[0m \u001b[39m# Update the filename to module name cache and check yet again\u001b[39;00m\n\u001b[1;32m    990\u001b[0m \u001b[39m# Copy sys.modules in order to cope with changes while iterating\u001b[39;00m\n\u001b[1;32m    991\u001b[0m \u001b[39mfor\u001b[39;00m modname, module \u001b[39min\u001b[39;00m sys\u001b[39m.\u001b[39mmodules\u001b[39m.\u001b[39mcopy()\u001b[39m.\u001b[39mitems():\n\u001b[0;32m--> 992\u001b[0m     \u001b[39mif\u001b[39;00m ismodule(module) \u001b[39mand\u001b[39;00m \u001b[39mhasattr\u001b[39m(module, \u001b[39m'\u001b[39m\u001b[39m__file__\u001b[39m\u001b[39m'\u001b[39m):\n\u001b[1;32m    993\u001b[0m         f \u001b[39m=\u001b[39m module\u001b[39m.\u001b[39m\u001b[39m__file__\u001b[39m\n\u001b[1;32m    994\u001b[0m         \u001b[39mif\u001b[39;00m f \u001b[39m==\u001b[39m _filesbymodname\u001b[39m.\u001b[39mget(modname, \u001b[39mNone\u001b[39;00m):\n\u001b[1;32m    995\u001b[0m             \u001b[39m# Have already mapped this module, so skip it\u001b[39;00m\n",
      "\u001b[0;31mKeyboardInterrupt\u001b[0m: "
     ]
    }
   ],
   "source": [
    "import tensorflow as tf\n",
    "import numpy as np\n",
    "import tensorcircuit as tc\n",
    "import matplotlib.pyplot as plt\n",
    "\n",
    "K = tc.set_backend(\"tensorflow\")\n",
    "X = tc.gates._x_matrix\n",
    "Y = tc.gates._y_matrix\n",
    "Z = tc.gates._z_matrix\n",
    "I = tc.gates._i_matrix\n",
    "n = 3\n",
    "list_of_matrixs = [X]*n\n",
    "c = tc.Circuit(n)\n",
    "shots = 8096\n",
    "device_name = \"tianji_s1\"\n",
    "list_of_M2 = [I] * n\n",
    "c.ry(0,theta=0.5)\n",
    "# c.cnot(1,3)\n",
    "\n",
    "expectation_real3 = K.cast(c.expectation_ps(x=[0,1,2]),dtype=\"complex64\")\n",
    "print(expectation_real3)\n",
    "list_of_M1 = get_seperate_matrix(n, gen_sample_cloud(device_name), shots)\n",
    "\n",
    "for j in range(n):\n",
    "    if list_of_matrixs[j][0,1] == X[0,1]:\n",
    "        c.h(j)\n",
    "    if list_of_matrixs[j][0,1] == Y[0,1]:\n",
    "        c.rz(j,theta = 0.5*np.pi)\n",
    "        c.ry(j,theta = 0.5*np.pi)\n",
    "        \n",
    "\n",
    "def get_expectation(maxstep,list_of_matrixs,list_of_M1,list_of_M2):\n",
    "    p = gen_sample_cloud(device_name)([c],maxstep)\n",
    "    output_list = []\n",
    "    for k in range(2):\n",
    "        expectation_sum = 0\n",
    "        list_of_M = [list_of_M1,list_of_M2][k]\n",
    "        for i in p[0]:\n",
    "            expectation = 1\n",
    "            for j in range(n):\n",
    "                T = list_of_matrixs[j]\n",
    "                M = list_of_M[j]\n",
    "                if T[0,0] != Z[0,0]:\n",
    "                    T = Z\n",
    "                if i[j] == \"0\":\n",
    "                    expectation *= (T[0,0]*M[0,0]+ T[1,1]*M[1,0])\n",
    "                elif i[j] == \"1\":\n",
    "                    expectation *= (T[1,1]*M[1,1]+T[0,0]*M[0,1])\n",
    "            expectation_sum += expectation*p[0][i]\n",
    "        output_list.append(expectation_sum/maxstep)\n",
    "    return output_list\n",
    "raw3 = get_expectation(shots,list_of_matrixs,list_of_M1,list_of_M2)[1]\n",
    "fixed3 = get_expectation(shots,list_of_matrixs,list_of_M1,list_of_M2)[0]\n",
    "\n",
    "\n"
   ]
  },
  {
   "cell_type": "code",
   "execution_count": 206,
   "metadata": {},
   "outputs": [
    {
     "data": {
      "text/plain": [
       "<tf.Tensor: shape=(), dtype=complex64, numpy=(0.59946513+0j)>"
      ]
     },
     "execution_count": 206,
     "metadata": {},
     "output_type": "execute_result"
    }
   ],
   "source": [
    "fixed3"
   ]
  },
  {
   "cell_type": "code",
   "execution_count": null,
   "metadata": {},
   "outputs": [
    {
     "name": "stdout",
     "output_type": "stream",
     "text": [
      "0.7557806324110672\n",
      "(0.7636941432952882+0j)\n"
     ]
    }
   ],
   "source": [
    "\n",
    "tf.Tensor((0.18299448-9.313226e-10j), shape=(), dtype=complex64)\n",
    "0.1465909090909091\n",
    "(0.1691527605056763+0j)\n",
    "\n",
    "tf.Tensor((0.15003851+9.313226e-10j), shape=(), dtype=complex64)\n",
    "0.12154150197628458\n",
    "(0.14367172718048096+0j)"
   ]
  },
  {
   "cell_type": "markdown",
   "metadata": {},
   "source": [
    "\n",
    "tf.Tensor((0.7988466+0j), shape=(), dtype=complex64)\n",
    "0.7544466403162056\n",
    "tf.Tensor((0.7707831+0j), shape=(), dtype=complex64)\n",
    "0.7670454545454546\n",
    "tf.Tensor((0.7645706+0j), shape=(), dtype=complex64)\n",
    "0.7655632411067194\n",
    "tf.Tensor((0.78360116+0j), shape=(), dtype=complex64)\n",
    "0.758399209486166\n",
    "tf.Tensor((0.7917655+0j), shape=(), dtype=complex64)\n",
    "0.7576581027667985\n",
    "tf.Tensor((0.7853005+0j), shape=(), dtype=complex64)"
   ]
  },
  {
   "cell_type": "code",
   "execution_count": 207,
   "metadata": {},
   "outputs": [],
   "source": [
    "names1 = ['Circuit1', 'Circuit2', 'Circuit3']\n",
    "\n",
    "value_raw = [raw1,raw2,raw3]\n",
    "value_ideal = [expectation_real1,expectation_real2,expectation_real3]\n",
    "value_fixed = [fixed1,fixed2,fixed3]\n"
   ]
  },
  {
   "cell_type": "code",
   "execution_count": 209,
   "metadata": {},
   "outputs": [
    {
     "data": {
      "image/png": "[encoded data removed]",
      "text/plain": [
       "<Figure size 400x300 with 1 Axes>"
      ]
     },
     "metadata": {},
     "output_type": "display_data"
    }
   ],
   "source": [
    "plt.figure(figsize=(4, 3))\n",
    "plt.plot(names1,value_raw,\"g-\",label=\"raw\",marker = \"+\")\n",
    "plt.plot(names1,value_ideal,\"r-\",label=\"ideal\",marker=\"*\")\n",
    "plt.plot(names1,value_fixed,\"b-\",label =\"fixed\",marker=\"o\")\n",
    "plt.title(r\"$<X_0X_1X_2>$\")\n",
    "plt.xlabel(\"different circuits\")\n",
    "plt.ylabel(\"expectation value\")\n",
    "plt.legend()\n",
    "plt.show()"
   ]
  },
  {
   "cell_type": "code",
   "execution_count": 94,
   "metadata": {},
   "outputs": [
    {
     "name": "stdout",
     "output_type": "stream",
     "text": [
      "\u001b[0;31mSignature:\u001b[0m\n",
      "\u001b[0mplt\u001b[0m\u001b[0;34m.\u001b[0m\u001b[0mscatter\u001b[0m\u001b[0;34m(\u001b[0m\u001b[0;34m\u001b[0m\n",
      "\u001b[0;34m\u001b[0m    \u001b[0mx\u001b[0m\u001b[0;34m,\u001b[0m\u001b[0;34m\u001b[0m\n",
      "\u001b[0;34m\u001b[0m    \u001b[0my\u001b[0m\u001b[0;34m,\u001b[0m\u001b[0;34m\u001b[0m\n",
      "\u001b[0;34m\u001b[0m    \u001b[0ms\u001b[0m\u001b[0;34m=\u001b[0m\u001b[0;32mNone\u001b[0m\u001b[0;34m,\u001b[0m\u001b[0;34m\u001b[0m\n",
      "\u001b[0;34m\u001b[0m    \u001b[0mc\u001b[0m\u001b[0;34m=\u001b[0m\u001b[0;32mNone\u001b[0m\u001b[0;34m,\u001b[0m\u001b[0;34m\u001b[0m\n",
      "\u001b[0;34m\u001b[0m    \u001b[0mmarker\u001b[0m\u001b[0;34m=\u001b[0m\u001b[0;32mNone\u001b[0m\u001b[0;34m,\u001b[0m\u001b[0;34m\u001b[0m\n",
      "\u001b[0;34m\u001b[0m    \u001b[0mcmap\u001b[0m\u001b[0;34m=\u001b[0m\u001b[0;32mNone\u001b[0m\u001b[0;34m,\u001b[0m\u001b[0;34m\u001b[0m\n",
      "\u001b[0;34m\u001b[0m    \u001b[0mnorm\u001b[0m\u001b[0;34m=\u001b[0m\u001b[0;32mNone\u001b[0m\u001b[0;34m,\u001b[0m\u001b[0;34m\u001b[0m\n",
      "\u001b[0;34m\u001b[0m    \u001b[0mvmin\u001b[0m\u001b[0;34m=\u001b[0m\u001b[0;32mNone\u001b[0m\u001b[0;34m,\u001b[0m\u001b[0;34m\u001b[0m\n",
      "\u001b[0;34m\u001b[0m    \u001b[0mvmax\u001b[0m\u001b[0;34m=\u001b[0m\u001b[0;32mNone\u001b[0m\u001b[0;34m,\u001b[0m\u001b[0;34m\u001b[0m\n",
      "\u001b[0;34m\u001b[0m    \u001b[0malpha\u001b[0m\u001b[0;34m=\u001b[0m\u001b[0;32mNone\u001b[0m\u001b[0;34m,\u001b[0m\u001b[0;34m\u001b[0m\n",
      "\u001b[0;34m\u001b[0m    \u001b[0mlinewidths\u001b[0m\u001b[0;34m=\u001b[0m\u001b[0;32mNone\u001b[0m\u001b[0;34m,\u001b[0m\u001b[0;34m\u001b[0m\n",
      "\u001b[0;34m\u001b[0m    \u001b[0;34m*\u001b[0m\u001b[0;34m,\u001b[0m\u001b[0;34m\u001b[0m\n",
      "\u001b[0;34m\u001b[0m    \u001b[0medgecolors\u001b[0m\u001b[0;34m=\u001b[0m\u001b[0;32mNone\u001b[0m\u001b[0;34m,\u001b[0m\u001b[0;34m\u001b[0m\n",
      "\u001b[0;34m\u001b[0m    \u001b[0mplotnonfinite\u001b[0m\u001b[0;34m=\u001b[0m\u001b[0;32mFalse\u001b[0m\u001b[0;34m,\u001b[0m\u001b[0;34m\u001b[0m\n",
      "\u001b[0;34m\u001b[0m    \u001b[0mdata\u001b[0m\u001b[0;34m=\u001b[0m\u001b[0;32mNone\u001b[0m\u001b[0;34m,\u001b[0m\u001b[0;34m\u001b[0m\n",
      "\u001b[0;34m\u001b[0m    \u001b[0;34m**\u001b[0m\u001b[0mkwargs\u001b[0m\u001b[0;34m,\u001b[0m\u001b[0;34m\u001b[0m\n",
      "\u001b[0;34m\u001b[0m\u001b[0;34m)\u001b[0m\u001b[0;34m\u001b[0m\u001b[0;34m\u001b[0m\u001b[0m\n",
      "\u001b[0;31mDocstring:\u001b[0m\n",
      "A scatter plot of *y* vs. *x* with varying marker size and/or color.\n",
      "\n",
      "Parameters\n",
      "----------\n",
      "x, y : float or array-like, shape (n, )\n",
      "    The data positions.\n",
      "\n",
      "s : float or array-like, shape (n, ), optional\n",
      "    The marker size in points**2 (typographic points are 1/72 in.).\n",
      "    Default is ``rcParams['lines.markersize'] ** 2``.\n",
      "\n",
      "c : array-like or list of colors or color, optional\n",
      "    The marker colors. Possible values:\n",
      "\n",
      "    - A scalar or sequence of n numbers to be mapped to colors using\n",
      "      *cmap* and *norm*.\n",
      "    - A 2D array in which the rows are RGB or RGBA.\n",
      "    - A sequence of colors of length n.\n",
      "    - A single color format string.\n",
      "\n",
      "    Note that *c* should not be a single numeric RGB or RGBA sequence\n",
      "    because that is indistinguishable from an array of values to be\n",
      "    colormapped. If you want to specify the same RGB or RGBA value for\n",
      "    all points, use a 2D array with a single row.  Otherwise,\n",
      "    value-matching will have precedence in case of a size matching with\n",
      "    *x* and *y*.\n",
      "\n",
      "    If you wish to specify a single color for all points\n",
      "    prefer the *color* keyword argument.\n",
      "\n",
      "    Defaults to `None`. In that case the marker color is determined\n",
      "    by the value of *color*, *facecolor* or *facecolors*. In case\n",
      "    those are not specified or `None`, the marker color is determined\n",
      "    by the next color of the ``Axes``' current \"shape and fill\" color\n",
      "    cycle. This cycle defaults to :rc:`axes.prop_cycle`.\n",
      "\n",
      "marker : `~.markers.MarkerStyle`, default: :rc:`scatter.marker`\n",
      "    The marker style. *marker* can be either an instance of the class\n",
      "    or the text shorthand for a particular marker.\n",
      "    See :mod:`matplotlib.markers` for more information about marker\n",
      "    styles.\n",
      "\n",
      "cmap : str or `~matplotlib.colors.Colormap`, default: :rc:`image.cmap`\n",
      "    The Colormap instance or registered colormap name used to map scalar data\n",
      "    to colors.\n",
      "\n",
      "    This parameter is ignored if *c* is RGB(A).\n",
      "\n",
      "norm : str or `~matplotlib.colors.Normalize`, optional\n",
      "    The normalization method used to scale scalar data to the [0, 1] range\n",
      "    before mapping to colors using *cmap*. By default, a linear scaling is\n",
      "    used, mapping the lowest value to 0 and the highest to 1.\n",
      "\n",
      "    If given, this can be one of the following:\n",
      "\n",
      "    - An instance of `.Normalize` or one of its subclasses\n",
      "      (see :doc:`/tutorials/colors/colormapnorms`).\n",
      "    - A scale name, i.e. one of \"linear\", \"log\", \"symlog\", \"logit\", etc.  For a\n",
      "      list of available scales, call `matplotlib.scale.get_scale_names()`.\n",
      "      In that case, a suitable `.Normalize` subclass is dynamically generated\n",
      "      and instantiated.\n",
      "\n",
      "    This parameter is ignored if *c* is RGB(A).\n",
      "\n",
      "vmin, vmax : float, optional\n",
      "    When using scalar data and no explicit *norm*, *vmin* and *vmax* define\n",
      "    the data range that the colormap covers. By default, the colormap covers\n",
      "    the complete value range of the supplied data. It is an error to use\n",
      "    *vmin*/*vmax* when a *norm* instance is given (but using a `str` *norm*\n",
      "    name together with *vmin*/*vmax* is acceptable).\n",
      "\n",
      "    This parameter is ignored if *c* is RGB(A).\n",
      "\n",
      "alpha : float, default: None\n",
      "    The alpha blending value, between 0 (transparent) and 1 (opaque).\n",
      "\n",
      "linewidths : float or array-like, default: :rc:`lines.linewidth`\n",
      "    The linewidth of the marker edges. Note: The default *edgecolors*\n",
      "    is 'face'. You may want to change this as well.\n",
      "\n",
      "edgecolors : {'face', 'none', *None*} or color or sequence of color, default: :rc:`scatter.edgecolors`\n",
      "    The edge color of the marker. Possible values:\n",
      "\n",
      "    - 'face': The edge color will always be the same as the face color.\n",
      "    - 'none': No patch boundary will be drawn.\n",
      "    - A color or sequence of colors.\n",
      "\n",
      "    For non-filled markers, *edgecolors* is ignored. Instead, the color\n",
      "    is determined like with 'face', i.e. from *c*, *colors*, or\n",
      "    *facecolors*.\n",
      "\n",
      "plotnonfinite : bool, default: False\n",
      "    Whether to plot points with nonfinite *c* (i.e. ``inf``, ``-inf``\n",
      "    or ``nan``). If ``True`` the points are drawn with the *bad*\n",
      "    colormap color (see `.Colormap.set_bad`).\n",
      "\n",
      "Returns\n",
      "-------\n",
      "`~matplotlib.collections.PathCollection`\n",
      "\n",
      "Other Parameters\n",
      "----------------\n",
      "data : indexable object, optional\n",
      "    If given, the following parameters also accept a string ``s``, which is\n",
      "    interpreted as ``data[s]`` (unless this raises an exception):\n",
      "\n",
      "    *x*, *y*, *s*, *linewidths*, *edgecolors*, *c*, *facecolor*, *facecolors*, *color*\n",
      "**kwargs : `~matplotlib.collections.Collection` properties\n",
      "\n",
      "See Also\n",
      "--------\n",
      "plot : To plot scatter plots when markers are identical in size and\n",
      "    color.\n",
      "\n",
      "Notes\n",
      "-----\n",
      "* The `.plot` function will be faster for scatterplots where markers\n",
      "  don't vary in size or color.\n",
      "\n",
      "* Any or all of *x*, *y*, *s*, and *c* may be masked arrays, in which\n",
      "  case all masks will be combined and only unmasked points will be\n",
      "  plotted.\n",
      "\n",
      "* Fundamentally, scatter works with 1D arrays; *x*, *y*, *s*, and *c*\n",
      "  may be input as N-D arrays, but within scatter they will be\n",
      "  flattened. The exception is *c*, which will be flattened only if its\n",
      "  size matches the size of *x* and *y*.\n",
      "\u001b[0;31mFile:\u001b[0m      ~/anaconda3/lib/python3.11/site-packages/matplotlib/pyplot.py\n",
      "\u001b[0;31mType:\u001b[0m      function"
     ]
    }
   ],
   "source": [
    "plt.scatter?"
   ]
  },
  {
   "cell_type": "code",
   "execution_count": null,
   "metadata": {},
   "outputs": [
    {
     "name": "stdout",
     "output_type": "stream",
     "text": [
      "tf.Tensor((0.36235768+0j), shape=(), dtype=complex64)\n"
     ]
    },
    {
     "data": {
      "text/plain": [
       "(0.37325000000000014+0j)"
      ]
     },
     "execution_count": 195,
     "metadata": {},
     "output_type": "execute_result"
    }
   ],
   "source": [
    "#实际结果1（云硬件计算模拟）【只测量对角阵的期望】（与精确结果对比：上方为精确值，下方为实测值）\n",
    "import tensorcircuit as tc\n",
    "import numpy as np\n",
    "import tensorflow as tf\n",
    "from tensorcircuit.cloud import apis\n",
    "K = tc.set_backend(\"tensorflow\")\n",
    "n=5\n",
    "N=8000\n",
    "device_name = \"simulator:tcn1\"\n",
    "c=tc.Circuit(n)\n",
    "c.h(0)\n",
    "c.rx(0,theta=1)\n",
    "c.ry(1,theta = 1.2)\n",
    "c.ry(3,theta=0.9)\n",
    "c.cx(0,1)\n",
    "for i in range(2,n-1):\n",
    "    c.cx(1,i)\n",
    "real21=c.expectation_ps(z=[0,1])\n",
    "t=apis.submit_task(circuit=c,\n",
    "  device=device_name,\n",
    "  shots=N)\n",
    "a=t.results()\n",
    "matrix_list=[Z,Z,I,I,I]\n",
    "print(real21)\n",
    "E=0\n",
    "for p in a:\n",
    "    T=1\n",
    "    for i in range(5):\n",
    "        if p[i]==\"0\":\n",
    "            qn=complex(matrix_list[i][0,0])\n",
    "        if p[i]==\"1\":\n",
    "            qn=complex(matrix_list[i][1,1])\n",
    "        T=qn*T\n",
    "    E=E+T*a[p]/N\n",
    "raw21 =  E\n",
    "E"
   ]
  },
  {
   "cell_type": "code",
   "execution_count": null,
   "metadata": {},
   "outputs": [
    {
     "name": "stderr",
     "output_type": "stream",
     "text": [
      "/tmp/ipykernel_31615/570798595.py:11: MatplotlibDeprecationWarning: Auto-removal of overlapping axes is deprecated since 3.6 and will be removed two minor releases later; explicitly call ax.remove() as needed.\n",
      "  plt.subplot(141)\n",
      "/home/tencent/anaconda3/lib/python3.11/site-packages/matplotlib/transforms.py:762: ComplexWarning: Casting complex values to real discards the imaginary part\n",
      "  points = np.asarray(points, float)\n"
     ]
    },
    {
     "data": {
      "text/plain": [
       "(0.0, 1.0)"
      ]
     },
     "execution_count": 200,
     "metadata": {},
     "output_type": "execute_result"
    },
    {
     "data": {
      "image/png": "[encoded data removed]",
      "text/plain": [
       "<Figure size 900x300 with 4 Axes>"
      ]
     },
     "metadata": {},
     "output_type": "display_data"
    }
   ],
   "source": [
    "names21 = ['ideal', 'raw']\n",
    "values21 = [real21.numpy(), raw21]\n",
    "names22 = ['ideal', 'raw']\n",
    "values22 = [real22.numpy(), raw22]\n",
    "names23 = ['ideal', 'raw']\n",
    "values23 = [real23.numpy(), raw23]\n",
    "names24 = ['ideal', 'raw']\n",
    "values24 = [real24.numpy(), raw24]\n",
    "plt.figure(figsize=(9, 3))\n",
    "plt.subplot(141)\n",
    "plt.xlabel('circuit1:')\n",
    "plt.bar(names21, values21, color=['r','b'])\n",
    "plt.ylim(0,1)\n",
    "plt.subplot(142)\n",
    "plt.xlabel('circuit2')\n",
    "plt.bar(names22, values22, color=['r','b'])\n",
    "plt.ylim(0,1)\n",
    "plt.subplot(143)\n",
    "plt.xlabel('circuit3')\n",
    "plt.bar(names23, values23, color=['r','b'])\n",
    "plt.ylim(0,1)\n",
    "plt.subplot(144)\n",
    "plt.xlabel('circuit4')\n",
    "plt.bar(names24, values24, color=['r','b'])\n",
    "plt.ylim(0,1)\n"
   ]
  }
 ],
 "metadata": {
  "kernelspec": {
   "display_name": "base",
   "language": "python",
   "name": "python3"
  },
  "language_info": {
   "codemirror_mode": {
    "name": "ipython",
    "version": 3
   },
   "file_extension": ".py",
   "mimetype": "text/x-python",
   "name": "python",
   "nbconvert_exporter": "python",
   "pygments_lexer": "ipython3",
   "version": "3.11.3"
  },
  "orig_nbformat": 4
 },
 "nbformat": 4,
 "nbformat_minor": 2
}
